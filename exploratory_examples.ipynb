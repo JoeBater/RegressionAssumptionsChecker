{
 "cells": [
  {
   "cell_type": "code",
   "execution_count": 1,
   "id": "b167b501",
   "metadata": {},
   "outputs": [],
   "source": [
    "import pandas as pd\n",
    "\n",
    "df = pd.read_csv(r'C:\\Users\\user\\ML\\Classification\\arrhythmia\\arrhythmia_dirty.csv')"
   ]
  },
  {
   "cell_type": "code",
   "execution_count": 2,
   "id": "698991bb",
   "metadata": {},
   "outputs": [
    {
     "ename": "TypeError",
     "evalue": "DataIntegrityOverlay.check_missingness() got an unexpected keyword argument 'custom_missing_values'",
     "output_type": "error",
     "traceback": [
      "\u001b[1;31m---------------------------------------------------------------------------\u001b[0m",
      "\u001b[1;31mTypeError\u001b[0m                                 Traceback (most recent call last)",
      "Cell \u001b[1;32mIn[2], line 4\u001b[0m\n\u001b[0;32m      1\u001b[0m \u001b[38;5;28;01mfrom\u001b[39;00m \u001b[38;5;21;01mDataIntegrityChecker\u001b[39;00m \u001b[38;5;28;01mimport\u001b[39;00m DataIntegrityChecker\n\u001b[0;32m      3\u001b[0m checker \u001b[38;5;241m=\u001b[39m DataIntegrityChecker(df)\n\u001b[1;32m----> 4\u001b[0m \u001b[43mchecker\u001b[49m\u001b[38;5;241;43m.\u001b[39;49m\u001b[43mrun_all_checks\u001b[49m\u001b[43m(\u001b[49m\u001b[43m)\u001b[49m\n\u001b[0;32m      5\u001b[0m \u001b[38;5;66;03m#checker.present_exploration()\u001b[39;00m\n\u001b[0;32m      6\u001b[0m \u001b[38;5;66;03m#checker.suggest_cleaning_steps()\u001b[39;00m\n",
      "File \u001b[1;32mc:\\Users\\user\\ML\\RegressionAssumptionsChecker\\DataIntegrityChecker.py:20\u001b[0m, in \u001b[0;36mDataIntegrityChecker.run_all_checks\u001b[1;34m(self)\u001b[0m\n\u001b[0;32m     16\u001b[0m \u001b[38;5;28;01mdef\u001b[39;00m \u001b[38;5;21mrun_all_checks\u001b[39m(\u001b[38;5;28mself\u001b[39m):\n\u001b[0;32m     18\u001b[0m     results \u001b[38;5;241m=\u001b[39m {}\n\u001b[1;32m---> 20\u001b[0m     results[\u001b[38;5;124m\"\u001b[39m\u001b[38;5;124mmissingness\u001b[39m\u001b[38;5;124m\"\u001b[39m] \u001b[38;5;241m=\u001b[39m \u001b[38;5;28;43mself\u001b[39;49m\u001b[38;5;241;43m.\u001b[39;49m\u001b[43mdata_integrity_overlay\u001b[49m\u001b[38;5;241;43m.\u001b[39;49m\u001b[43mcheck_missingness\u001b[49m\u001b[43m(\u001b[49m\n\u001b[0;32m     21\u001b[0m \u001b[43m        \u001b[49m\u001b[43mcustom_missing_values\u001b[49m\u001b[38;5;241;43m=\u001b[39;49m\u001b[38;5;28;43mself\u001b[39;49m\u001b[38;5;241;43m.\u001b[39;49m\u001b[43mcustom_missing_values\u001b[49m\n\u001b[0;32m     22\u001b[0m \u001b[43m    \u001b[49m\u001b[43m)\u001b[49m\n\u001b[0;32m     23\u001b[0m     results[\u001b[38;5;124m\"\u001b[39m\u001b[38;5;124mconstancy\u001b[39m\u001b[38;5;124m\"\u001b[39m] \u001b[38;5;241m=\u001b[39m \u001b[38;5;28mself\u001b[39m\u001b[38;5;241m.\u001b[39mconstancy_overlay\u001b[38;5;241m.\u001b[39mcheck_constancy()\n\u001b[0;32m     24\u001b[0m     \u001b[38;5;66;03m# ... other checks\u001b[39;00m\n",
      "\u001b[1;31mTypeError\u001b[0m: DataIntegrityOverlay.check_missingness() got an unexpected keyword argument 'custom_missing_values'"
     ]
    }
   ],
   "source": [
    "from DataIntegrityChecker import DataIntegrityChecker\n",
    "\n",
    "checker = DataIntegrityChecker(df)\n",
    "checker.run_all_checks()\n",
    "#checker.present_exploration()\n",
    "#checker.suggest_cleaning_steps()"
   ]
  },
  {
   "cell_type": "code",
   "execution_count": null,
   "id": "c11d4c1a",
   "metadata": {},
   "outputs": [],
   "source": [
    "import pandas as pd\n",
    "df = pd.read_excel(r'C:\\Users\\user\\ML\\Regression\\container-tracking\\Container Tracking Data.xlsx')\n",
    "\n",
    "from DataIntegrityChecker import DataIntegrityChecker\n",
    "\n",
    "checker = DataIntegrityChecker(df)\n",
    "checker.run_all_checks()\n"
   ]
  }
 ],
 "metadata": {
  "kernelspec": {
   "display_name": "Python 3",
   "language": "python",
   "name": "python3"
  },
  "language_info": {
   "codemirror_mode": {
    "name": "ipython",
    "version": 3
   },
   "file_extension": ".py",
   "mimetype": "text/x-python",
   "name": "python",
   "nbconvert_exporter": "python",
   "pygments_lexer": "ipython3",
   "version": "3.10.11"
  }
 },
 "nbformat": 4,
 "nbformat_minor": 5
}
